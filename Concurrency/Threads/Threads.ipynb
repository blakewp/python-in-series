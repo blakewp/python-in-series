{
 "cells": [
  {
   "cell_type": "markdown",
   "metadata": {},
   "source": [
    "# <center>Concurrency</center>\n",
    "## <center>Threads</center>\n",
    "\n",
    "### Table of contents\n",
    "---\n",
    "- **Concurrency**\n",
    "- **Process and Thread**\n",
    "- **Concurrency with Threads**\n",
    "---"
   ]
  },
  {
   "cell_type": "markdown",
   "metadata": {},
   "source": [
    "### Concurrency\n",
    "---\n",
    "\n",
    "_Concurrency_ means multiple computations are happening at the same time. Imagine on a computer with one CPU core, the operating system rapidly changes which program will be running on the single processor. By doing it so, it overlaps the execution of the programs, providing the illusion that the programs are running simultaneously.\n",
    "\n",
    "Examples of Concurrency\n",
    "\n",
    "![Real-world examples of concurrency](images/tables/real-world-concurrency-examples.png)\n",
    "\n",
    "![Software examples of concurrency](images/tables/software-concurrency-examples.png)\n"
   ]
  },
  {
   "cell_type": "markdown",
   "metadata": {},
   "source": [
    "### Process and Thread\n",
    "---\n",
    "\n",
    "Before diving into concurrency by using Threads, let's take a look at two really important foundations.\n",
    "\n",
    "**Process**\n",
    "\n",
    "A running program is called a _process_. Each process has its own system state, which includes memory, open files, a program counter that keeps track of the instruction being executed, and a call stack used to hold the local variables of functions. Thus characteristics make a process an isolated from other processes on the same machine. Normally, a process executes statements sequentially, which is sometimes called the _main thread_ of the process.\n",
    "\n",
    "**Note**\n",
    "\n",
    "> In this notebook, we're not going to study and look at programming examples about the Processes, because there is a separate conception called _Parallelism_ in which they are involved. I just wanted to mention Processes as they are the foundation on which the Threads lives. Let's not mess up the things and focus on Threads.\n",
    "\n",
    "**Thread**\n",
    "\n",
    "A thread is a component of a process. A process can contain one or more threads. Threads have their own program counter and register values, but they share the memory space and other resources of the process with other threads.\n",
    "\n",
    "![Diagram of processes with threads](images/diagrams/processes-with-threads.png)"
   ]
  },
  {
   "cell_type": "markdown",
   "metadata": {},
   "source": [
    "### Concurrency with Threads\n",
    "---\n",
    "\n",
    "Let's start with an example that is going to introduce us into aspects over Threads.\n",
    "\n",
    "**The problem**\n",
    "\n",
    "Imagine the biggest Burger Fest visited by millions of visitors who have no patience to taste different kinds of burgers from all over the world. The problem comes to the burger shops and restaurants, how to serve delicious burgers and not make visitors wait.\n",
    "\n",
    "**The solution**\n",
    "\n",
    "To solve the problem of serving burgers faster and not form a queue of visitors, the burger shops and restaurants decided to divide the process of making burgers and create an assembly line by assign one worker to each ingredient that contributes to making the burger."
   ]
  },
  {
   "cell_type": "code",
   "execution_count": null,
   "metadata": {},
   "outputs": [],
   "source": [
    "from threading import Thread\n",
    "\n",
    "\n",
    "def assembly_line(index, ingredient):\n",
    "    \"\"\"\n",
    "     Builds a burger in an assembly line by\n",
    "     adding a specific ingredient from each thread.\n",
    "    \"\"\"\n",
    "    global burger\n",
    "\n",
    "    burger += '.'.join([index, ingredient]) + '\\n'\n",
    "    print('{index}. {ingredient}'.format(\n",
    "        index=index,\n",
    "        ingredient=ingredient\n",
    "    ))\n",
    "\n",
    "\n",
    "burger = ''\n",
    "burger_ingredients = [\n",
    "    'Buns',\n",
    "    'Lettuce',\n",
    "    'Minced beef',\n",
    "    'Cheddar',\n",
    "    'Tomato',\n",
    "    'Gherkins'\n",
    "]\n",
    "print('Start making - Burger')\n",
    "print('Burger assembly line')\n",
    "print('--------------------')\n",
    "for index, ingredient in enumerate(burger_ingredients, 1):\n",
    "    # Create a thread instance\n",
    "    thread = Thread(\n",
    "        target=assembly_line,\n",
    "        args=(str(index), ingredient)\n",
    "    )\n",
    "    # Start thread execution\n",
    "    thread.start()\n",
    "print('--------------------')\n",
    "print('Finishing up - Burger')\n"
   ]
  },
  {
   "cell_type": "markdown",
   "metadata": {},
   "source": [
    "---\n",
    "So what we've done so far...\n",
    "\n",
    "1. Defined global variable `burger` which is our state.\n",
    "2. Defined a list of burger ingredients to have a complete one.\n",
    "3. Iterated over the list of ingredients until exhausted.\n",
    "  * For every iteration created a Thread pointed to target function `assembly_line` with index of ingredient and   ingredient itself as arguments.\n",
    "  * This `thread.start()` method invoked the target function with the arguments supplied.\n",
    "4. Each Thread started to operate on `assembly_line` function, where our state `burger` variable is modified and the value with which it was modified is printed."
   ]
  },
  {
   "cell_type": "markdown",
   "metadata": {},
   "source": [
    "#### An issue\n",
    "---\n",
    "\n",
    "The above implementation has a weak spots that causes a bugs to our program. \n",
    "\n",
    "Augmented assignment statement - \n",
    "```python\n",
    "burger += '.'.join([index, ingredient]) + '\\n'\n",
    "```\n",
    "\n",
    "Print statement - \n",
    "\n",
    "```python\n",
    "print('{index}. {ingredient}'.format(\n",
    "    index=index,\n",
    "    ingredient=ingredient\n",
    "))\n",
    "```\n",
    "\n",
    "In this simple program, we should expect at the end, regardless of how many times were running it, the burger be made from the ingredients in the list in the order indicated.\n",
    "\n",
    "![The proper output from burger script implementation](images/screenshots/burger-script-output.png)\n",
    "\n",
    "The first time we ran it, it seems that the output is what we've expected. This may run correctly a hundred times, but there is a bug caused by the weak spots that we've revealed. If you run it on your own and have the luck to meet the weird outputs as I had after run it a few times. \n",
    "\n",
    "| | |\n",
    "- | - \n",
    "![The first weird output](images/screenshots/burger-script-1st-weird-output.png) | ![The second weird output](images/screenshots/burger-script-2nd-weird-output.png)\n",
    "\n",
    "Why is this happen?\n",
    "\n",
    "As we described a Thread shares the same memory as other threads. Imagine, threads Anna and John are trying to put their ingredients on the burger. They both execute the sequence:\n",
    "\n",
    "1. Call `assembly_line` function with the index of ingredient and ingredient itself as arguments, of a specific thread.\n",
    "2. Modify the `burger` variable with the new ingredient.\n",
    "3. Print the newly added ingredient with its order number.\n",
    "\n",
    "If Anna appends her ingredient to the burger, then immediately John appends his ingredient, before Anna's ingredient is saved to the memory. That's where all the bugs and wrong outputs start.\\\n",
    "This is an example of a **race condition**. A _race condition_ occurs when two threads access a shared variable at the same time. There are programming paradigms to make sure threads can synchronize properly to avoid these problems."
   ]
  },
  {
   "cell_type": "markdown",
   "metadata": {},
   "source": [
    "#### COMING SOON"
   ]
  }
 ],
 "metadata": {
  "kernelspec": {
   "display_name": "Python 3",
   "language": "python",
   "name": "python3"
  },
  "language_info": {
   "codemirror_mode": {
    "name": "ipython",
    "version": 3
   },
   "file_extension": ".py",
   "mimetype": "text/x-python",
   "name": "python",
   "nbconvert_exporter": "python",
   "pygments_lexer": "ipython3",
   "version": "3.7.6"
  }
 },
 "nbformat": 4,
 "nbformat_minor": 4
}
