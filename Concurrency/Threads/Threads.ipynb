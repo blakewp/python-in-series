{
 "cells": [
  {
   "cell_type": "markdown",
   "metadata": {},
   "source": [
    "# <center>Concurrency</center>\n",
    "## <center>Threads</center>\n",
    "\n",
    "### Table of contents\n",
    "---\n",
    "- **Concurrency**\n",
    "- **Concurrency with Threads**\n",
    "---"
   ]
  },
  {
   "cell_type": "markdown",
   "metadata": {},
   "source": [
    "### Concurrency\n",
    "---\n",
    "\n",
    "_Concurrency_ means multiple computations are happening at the same time. Imagine on a computer with one CPU core, the operating system rapidly changes which program will be running on the single processor. By doing it so, it overlaps the execution of the programs, providing the illusion that the programs are running simultaneously.\n",
    "\n",
    "Examples of Concurrency\n",
    "\n",
    "![Real-world examples of concurrency](images/tables/real-world-concurrency-examples.png)\n",
    "\n",
    "![Software examples of concurrency](images/tables/software-concurrency-examples.png)\n"
   ]
  }
 ],
 "metadata": {
  "kernelspec": {
   "display_name": "Python 3",
   "language": "python",
   "name": "python3"
  },
  "language_info": {
   "codemirror_mode": {
    "name": "ipython",
    "version": 3
   },
   "file_extension": ".py",
   "mimetype": "text/x-python",
   "name": "python",
   "nbconvert_exporter": "python",
   "pygments_lexer": "ipython3",
   "version": "3.7.6"
  }
 },
 "nbformat": 4,
 "nbformat_minor": 4
}
