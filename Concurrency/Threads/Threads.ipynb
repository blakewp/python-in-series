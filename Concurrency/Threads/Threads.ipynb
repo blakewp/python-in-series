{
 "cells": [
  {
   "cell_type": "markdown",
   "metadata": {},
   "source": [
    "# <center>Concurrency</center>\n",
    "## <center>Threads</center>\n",
    "\n",
    "### Table of contents\n",
    "---\n",
    "- **Concurrency**\n",
    "- **Process and Thread**\n",
    "- **Concurrency with Threads**\n",
    "---"
   ]
  },
  {
   "cell_type": "markdown",
   "metadata": {},
   "source": [
    "### Concurrency\n",
    "---\n",
    "\n",
    "_Concurrency_ means multiple computations are happening at the same time. Imagine on a computer with one CPU core, the operating system rapidly changes which program will be running on the single processor. By doing it so, it overlaps the execution of the programs, providing the illusion that the programs are running simultaneously.\n",
    "\n",
    "Examples of Concurrency\n",
    "\n",
    "![Real-world examples of concurrency](images/tables/real-world-concurrency-examples.png)\n",
    "\n",
    "![Software examples of concurrency](images/tables/software-concurrency-examples.png)\n"
   ]
  },
  {
   "cell_type": "markdown",
   "metadata": {},
   "source": [
    "### Process and Thread\n",
    "---\n",
    "\n",
    "Before diving into concurrency by using Threads, let's take a look at two really important foundations.\n",
    "\n",
    "**Process**\n",
    "\n",
    "A running program is called a _process_. Each process has its own system state, which includes memory, open files, a program counter that keeps track of the instruction being executed, and a call stack used to hold the local variables of functions. Thus characteristics make a process an isolated from other processes on the same machine. Normally, a process executes statements sequentially, which is sometimes called the _main thread_ of the process.\n",
    "\n",
    "**Note**\n",
    "\n",
    "> In this notebook, we're not going to study and look at programming examples about the Processes, because there is a separate conception called _Parallelism_ in which they are involved. I just wanted to mention Processes as they are the foundation on which the Threads lives. Let's not mess up the things and focus on Threads.\n",
    "\n",
    "**Thread**\n",
    "\n",
    "A thread is a component of a process. A process can contain one or more threads. Threads have their own program counter and register values, but they share the memory space and other resources of the process with other threads.\n",
    "\n",
    "![Diagram of processes with threads](images/diagrams/processes-with-threads.png)"
   ]
  },
  {
   "cell_type": "markdown",
   "metadata": {},
   "source": [
    "### Concurrency with Threads\n",
    "---\n",
    "\n",
    "Let's start with an example that is going to introduce us into aspects over Threads.\n",
    "\n",
    "#### The problem\n",
    "\n",
    "Imagine the biggest Burger Fest visited by millions of visitors who have no patience to taste different kinds of burgers from all over the world. The problem comes to the burger shops and restaurants, how to serve delicious burgers and not make visitors wait.\n",
    "\n",
    "#### The solution\n",
    "\n",
    "To solve the problem of serving burgers faster and not form a queue of visitors, the burger shops and restaurants decided to divide the process of making burgers and create an assembly line by assign one worker to each ingredient that contributes to making the burger."
   ]
  },
  {
   "cell_type": "code",
   "execution_count": null,
   "metadata": {},
   "outputs": [],
   "source": [
    "from threading import Thread\n",
    "\n",
    "\n",
    "def assembly_line(index, ingredient):\n",
    "    \"\"\"\n",
    "     Builds a burger in an assembly line by\n",
    "     adding a specific ingredient from each thread.\n",
    "    \"\"\"\n",
    "    global burger\n",
    "\n",
    "    burger += '.'.join([index, ingredient]) + '\\n'\n",
    "    print('{index}. {ingredient}'.format(\n",
    "        index=index,\n",
    "        ingredient=ingredient\n",
    "    ))\n",
    "\n",
    "\n",
    "burger = ''\n",
    "burger_ingredients = [\n",
    "    'Buns',\n",
    "    'Lettuce',\n",
    "    'Minced beef',\n",
    "    'Cheddar',\n",
    "    'Tomato',\n",
    "    'Gherkins'\n",
    "]\n",
    "print('Start making - Burger')\n",
    "print('Burger assembly line')\n",
    "print('--------------------')\n",
    "for index, ingredient in enumerate(burger_ingredients, 1):\n",
    "    # Create a thread instance\n",
    "    thread = Thread(\n",
    "        target=assembly_line,\n",
    "        args=(str(index), ingredient)\n",
    "    )\n",
    "    # Start thread execution\n",
    "    thread.start()\n",
    "print('--------------------')\n",
    "print('Finishing up - Burger')\n"
   ]
  }
 ],
 "metadata": {
  "kernelspec": {
   "display_name": "Python 3",
   "language": "python",
   "name": "python3"
  },
  "language_info": {
   "codemirror_mode": {
    "name": "ipython",
    "version": 3
   },
   "file_extension": ".py",
   "mimetype": "text/x-python",
   "name": "python",
   "nbconvert_exporter": "python",
   "pygments_lexer": "ipython3",
   "version": "3.7.6"
  }
 },
 "nbformat": 4,
 "nbformat_minor": 4
}
