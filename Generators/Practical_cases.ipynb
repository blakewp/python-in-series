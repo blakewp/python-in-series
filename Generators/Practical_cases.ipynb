{
 "cells": [
  {
   "cell_type": "markdown",
   "metadata": {},
   "source": [
    "# <center>Generators</center>\n",
    "## <center>Practical cases</center>\n",
    "\n",
    "### Table of contents\n",
    "---\n",
    "- **Cases.**\n",
    "- **Pipeline (Unix).**\n",
    "- **Building a real-world _Shell_ command into script.**\n",
    "- **Benchmarking.**\n",
    "---"
   ]
  },
  {
   "cell_type": "code",
   "execution_count": null,
   "metadata": {},
   "outputs": [],
   "source": [
    "# Example of using shell commands\n",
    "# %%bash"
   ]
  }
 ],
 "metadata": {
  "kernelspec": {
   "display_name": "Python 3",
   "language": "python",
   "name": "python3"
  },
  "language_info": {
   "codemirror_mode": {
    "name": "ipython",
    "version": 3
   },
   "file_extension": ".py",
   "mimetype": "text/x-python",
   "name": "python",
   "nbconvert_exporter": "python",
   "pygments_lexer": "ipython3",
   "version": "3.7.6"
  }
 },
 "nbformat": 4,
 "nbformat_minor": 4
}
