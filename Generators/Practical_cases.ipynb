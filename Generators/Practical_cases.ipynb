{
 "cells": [
  {
   "cell_type": "markdown",
   "metadata": {},
   "source": [
    "# <center>Generators</center>\n",
    "## <center>Practical cases</center>\n",
    "\n",
    "### Table of contents\n",
    "---\n",
    "- **Cases.**\n",
    "- **Pipeline (Unix).**\n",
    "- **Building a real-world _Shell_ command into script.**\n",
    "- **Benchmarking.**\n",
    "---"
   ]
  },
  {
   "cell_type": "markdown",
   "metadata": {},
   "source": [
    "### Cases\n",
    "---\n",
    "\n",
    "Generators, can be particularly effective and powerful when applied to certain kinds of programming problems in systems. \n",
    "\n",
    "- **Files**\n",
    "    - Searching\n",
    "        - Keywords in text.\n",
    "        - Word frequency.\n",
    "        - Syntax errors.\n",
    "        - ...\n",
    "    - Filtering\n",
    "        - Based on specific column in .csv file.\n",
    "        - Based on combinations.\n",
    "        - ...\n",
    "    - Ordering\n",
    "        - Commands for execution from a configuration file.\n",
    "        - By unique columns.\n",
    "        - ...\n",
    "    - Sorting\n",
    "        - Memory log files by Memory Consumption status.\n",
    "        - ...\n",
    "    - Moving\n",
    "        - Reorganizing files in a directory or multiple directories.\n",
    "        - ...\n",
    "    - Parsing\n",
    "        - JSON\n",
    "        - HTML\n",
    "        - XML\n",
    "        - ...\n",
    "    - Templating engines\n",
    "    - ...\n",
    "- **Threads**\n",
    "    - Microthreads.\n",
    "    - ...\n",
    "- **Networking**\n",
    "    - Building an interactive two-player network game - 'Rock paper scissors'.\n",
    "    - Simultaneously manage client connections.\n",
    "    - Sending objects through sockets.\n",
    "    - ...\n",
    "    \n",
    "---\n",
    "**NOTE**\n",
    "\n",
    "> The cases that you can apply Generators are not limited to the list above. The aim is to give you more meaningful cases to get an idea and unlock your creativity or get recognized in your problem.\n",
    "---"
   ]
  },
  {
   "cell_type": "markdown",
   "metadata": {},
   "source": [
    "### Pipeline (Unix)\n",
    "---\n",
    "\n",
    "A pipeline is a series of processes where each process consumes the output of the prior process and produces output for the next. Similar to using a pipe in the UNIX shell. You must have used pipes in the shell before.\n",
    "\n",
    "Linux:\n",
    "\n",
    "```bash\n",
    "ps aux | grep python\n",
    "```\n",
    "\n",
    "Windows equivalent:\n",
    "\n",
    "```powershell\n",
    "tasklist | find \"python\"\n",
    "```\n",
    "\n",
    "![Pipeline diagram of UNIX ps and aux command](diagrams/pipeline_diagram_unix_ps_aux_command.png)\n",
    "\n",
    "- The first process is _ps aux_.\n",
    "- The second process is _grep python_ , it consumes the output of the prior process.\n",
    "- The result."
   ]
  },
  {
   "cell_type": "markdown",
   "metadata": {},
   "source": [
    "### Building a real-world Shell command into script.\n",
    "---\n",
    "\n",
    "One real-world example of an application that we might take is Linux and Unix-like operating systems shell command _wc_. The _wc_ command allows us to count the number of lines, words, characters of each given file."
   ]
  },
  {
   "cell_type": "code",
   "execution_count": null,
   "metadata": {},
   "outputs": [],
   "source": [
    "# Let's see the command in action.\n",
    "!wc data/molecules/*.pdb"
   ]
  },
  {
   "cell_type": "markdown",
   "metadata": {},
   "source": [
    "---\n",
    "Let's create a Python script that does the same thing by using Generators. \n",
    "\n",
    "Tasks:\n",
    "- Split the logic into a small processes to form a pipeline.\n",
    "- Implement\n",
    "\n",
    "![Pipeline diagram of UNIX ps and aux command](diagrams/pipeline_diagram_unix_wc_command.png)"
   ]
  },
  {
   "cell_type": "code",
   "execution_count": null,
   "metadata": {},
   "outputs": [],
   "source": [
    "# Implementation\n",
    "from pathlib import Path\n",
    "\n",
    "\n",
    "def open_files(files_paths):\n",
    "    \"\"\"Opens the files for reading by lazy evaluating them.\n",
    "\n",
    "    :yields: class:`io.TextIOWrapper`\n",
    "    \"\"\"\n",
    "    for file_path in files_paths:\n",
    "        with open(file_path, 'r') as file:\n",
    "            yield file\n",
    "\n",
    "\n",
    "def counter_generator(texts):\n",
    "    \"\"\"Counts the number of lines, words, characters\n",
    "    for each given text.\n",
    "\n",
    "    :yields: `tuple`\n",
    "    \"\"\"\n",
    "    for text in texts:\n",
    "        lines_count = len(text.splitlines())\n",
    "        words_count = len(text.split())\n",
    "        characters_count = len(text)\n",
    "\n",
    "        yield (\n",
    "            lines_count,\n",
    "            words_count,\n",
    "            characters_count\n",
    "        )\n",
    "\n",
    "\n",
    "# Yielding all matching files.\n",
    "files_paths = Path('data/molecules').rglob('*.pdb')\n",
    "# Open the files.\n",
    "files = open_files(files_paths)\n",
    "# Read the files.\n",
    "files_texts = (file.read() for file in files)\n",
    "\n",
    "for tl, tw, tc in counter_generator(files_texts):\n",
    "    # Prints for each text:\n",
    "    # 1. Number of lines.\n",
    "    # 2. Number of words.\n",
    "    # 3. Number of characters.\n",
    "    print(tl, tw, tc)\n"
   ]
  },
  {
   "cell_type": "markdown",
   "metadata": {},
   "source": [
    "---\n",
    "Summarizing, we have a directory called _molecules/_ that contains six files describing some simple organic molecules. The files are with _.pdb_ extension indicates that these files are in Protein Data Format, a simple text format that specifies the type and position of each atom in the molecule. Our program does counting the number of lines, words, and characters for each of the files."
   ]
  }
 ],
 "metadata": {
  "kernelspec": {
   "display_name": "Python 3",
   "language": "python",
   "name": "python3"
  },
  "language_info": {
   "codemirror_mode": {
    "name": "ipython",
    "version": 3
   },
   "file_extension": ".py",
   "mimetype": "text/x-python",
   "name": "python",
   "nbconvert_exporter": "python",
   "pygments_lexer": "ipython3",
   "version": "3.7.6"
  }
 },
 "nbformat": 4,
 "nbformat_minor": 4
}
