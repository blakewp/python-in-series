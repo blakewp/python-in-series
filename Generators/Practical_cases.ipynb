{
 "cells": [
  {
   "cell_type": "markdown",
   "metadata": {},
   "source": [
    "# <center>Generators</center>\n",
    "## <center>Practical cases</center>\n",
    "\n",
    "### Table of contents\n",
    "---\n",
    "- **Cases.**\n",
    "- **Pipeline (Unix).**\n",
    "- **Building a real-world _Shell_ command into script.**\n",
    "- **Benchmarking.**\n",
    "---"
   ]
  },
  {
   "cell_type": "markdown",
   "metadata": {},
   "source": [
    "### Cases\n",
    "---\n",
    "\n",
    "Generators, can be particularly effective and powerful when applied to certain kinds of programming problems in systems. \n",
    "\n",
    "- **Files**\n",
    "    - Searching\n",
    "        - Keywords in text.\n",
    "        - Word frequency.\n",
    "        - Syntax errors.\n",
    "        - ...\n",
    "    - Filtering\n",
    "        - Based on specific column in .csv file.\n",
    "        - Based on combinations.\n",
    "        - ...\n",
    "    - Ordering\n",
    "        - Commands for execution from a configuration file.\n",
    "        - By unique columns.\n",
    "        - ...\n",
    "    - Sorting\n",
    "        - Memory log files by Memory Consumption status.\n",
    "        - ...\n",
    "    - Moving\n",
    "        - Reorganizing files in a directory or multiple directories.\n",
    "        - ...\n",
    "    - Parsing\n",
    "        - JSON\n",
    "        - HTML\n",
    "        - XML\n",
    "        - ...\n",
    "    - Templating engines\n",
    "    - ...\n",
    "- **Threads**\n",
    "    - Microthreads.\n",
    "    - ...\n",
    "- **Networking**\n",
    "    - Building an interactive two-player network game - 'Rock paper scissors'.\n",
    "    - Simultaneously manage client connections.\n",
    "    - Sending objects through sockets.\n",
    "    - ...\n",
    "    \n",
    "---\n",
    "**NOTE**\n",
    "\n",
    "> The cases that you can apply Generators are not limited to the list above. The aim is to give you more meaningful cases to get an idea and unlock your creativity or get recognized in your problem.\n",
    "---"
   ]
  },
  {
   "cell_type": "code",
   "execution_count": null,
   "metadata": {},
   "outputs": [],
   "source": [
    "# Example of using shell commands\n",
    "# %%bash"
   ]
  }
 ],
 "metadata": {
  "kernelspec": {
   "display_name": "Python 3",
   "language": "python",
   "name": "python3"
  },
  "language_info": {
   "codemirror_mode": {
    "name": "ipython",
    "version": 3
   },
   "file_extension": ".py",
   "mimetype": "text/x-python",
   "name": "python",
   "nbconvert_exporter": "python",
   "pygments_lexer": "ipython3",
   "version": "3.7.6"
  }
 },
 "nbformat": 4,
 "nbformat_minor": 4
}
